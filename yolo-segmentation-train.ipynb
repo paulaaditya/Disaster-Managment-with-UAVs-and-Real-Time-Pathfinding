{
 "cells": [
  {
   "cell_type": "code",
   "execution_count": null,
   "id": "bb6a4723",
   "metadata": {},
   "outputs": [],
   "source": [
    "%%writefile dataset.yaml\n",
    "path: path\\to\\road\\segmentation\\dataset\n",
    "train: dataset\\train\\images\n",
    "val: dataset\\val\\images\n",
    "\n",
    "names:\n",
    "  0: road\n",
    "  1: building\n",
    "  2: road\n",
    "  3: sidewalk\n",
    "  4: parking\n",
    "  \n",
    "  \n"
   ]
  },
  {
   "cell_type": "code",
   "execution_count": null,
   "id": "89b13a3c",
   "metadata": {},
   "outputs": [],
   "source": [
    "from ultralytics import YOLO\n",
    "\n",
    "# Load model\n",
    "model = YOLO(\"yolov8m-seg.pt\")  # or yolov8s-seg.pt, yolov8m-seg.pt, etc.\n",
    "\n",
    "# Train model\n",
    "model.train(\n",
    "    data='dataset.yaml',  # path to your YAML file\n",
    "    epochs=200,\n",
    "    imgsz=512,\n",
    "    batch=16,                      # adjust based on your GPU\n",
    "    project=\"segmentation-project\",\n",
    "    name=\"aerial-road-building\",\n",
    "    task = \"segment\",\n",
    "    device = 'cuda',              \n",
    "    workers=2                   # number of dataloader workers\n",
    ")\n"
   ]
  }
 ],
 "metadata": {
  "kernelspec": {
   "display_name": "Python 3",
   "language": "python",
   "name": "python3"
  },
  "language_info": {
   "codemirror_mode": {
    "name": "ipython",
    "version": 3
   },
   "file_extension": ".py",
   "mimetype": "text/x-python",
   "name": "python",
   "nbconvert_exporter": "python",
   "pygments_lexer": "ipython3",
   "version": "3.11.0"
  }
 },
 "nbformat": 4,
 "nbformat_minor": 5
}
